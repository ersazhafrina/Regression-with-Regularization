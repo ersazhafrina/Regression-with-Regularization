{
  "nbformat": 4,
  "nbformat_minor": 0,
  "metadata": {
    "colab": {
      "provenance": [],
      "collapsed_sections": [],
      "toc_visible": true
    },
    "kernelspec": {
      "name": "python3",
      "display_name": "Python 3"
    },
    "language_info": {
      "name": "python"
    }
  },
  "cells": [
    {
      "cell_type": "code",
      "execution_count": 1,
      "metadata": {
        "id": "Kl8oTZw3NJqZ"
      },
      "outputs": [],
      "source": [
        "# import libraries\n",
        "import numpy as np\n",
        "import pandas as pd\n",
        "import seaborn as sns\n",
        "import matplotlib.pyplot as plt"
      ]
    },
    {
      "cell_type": "code",
      "source": [
        "from google.colab import drive\n",
        "drive.mount('/content/drive')"
      ],
      "metadata": {
        "colab": {
          "base_uri": "https://localhost:8080/"
        },
        "id": "jgA2nZfBgd7W",
        "outputId": "5cad7129-9a4a-4262-cea8-007bac23bc3f"
      },
      "execution_count": 2,
      "outputs": [
        {
          "output_type": "stream",
          "name": "stdout",
          "text": [
            "Mounted at /content/drive\n"
          ]
        }
      ]
    },
    {
      "cell_type": "code",
      "source": [
        "# load data\n",
        "df = pd.read_csv('/content/drive/MyDrive/Dataset/boston.csv')\n",
        "df.head()"
      ],
      "metadata": {
        "colab": {
          "base_uri": "https://localhost:8080/",
          "height": 206
        },
        "id": "LW5J9DSFgnWX",
        "outputId": "ac960be2-7a97-4156-fd76-8bf9f3d6b697"
      },
      "execution_count": 11,
      "outputs": [
        {
          "output_type": "execute_result",
          "data": {
            "text/plain": [
              "      crim    zn  indus  chas    nox     rm   age     dis  rad  tax  ptratio  \\\n",
              "0  0.00632  18.0   2.31     0  0.538  6.575  65.2  4.0900    1  296     15.3   \n",
              "1  0.02731   0.0   7.07     0  0.469  6.421  78.9  4.9671    2  242     17.8   \n",
              "2  0.02729   0.0   7.07     0  0.469  7.185  61.1  4.9671    2  242     17.8   \n",
              "3  0.03237   0.0   2.18     0  0.458  6.998  45.8  6.0622    3  222     18.7   \n",
              "4  0.06905   0.0   2.18     0  0.458  7.147  54.2  6.0622    3  222     18.7   \n",
              "\n",
              "    black  lstat  medv  \n",
              "0  396.90   4.98  24.0  \n",
              "1  396.90   9.14  21.6  \n",
              "2  392.83   4.03  34.7  \n",
              "3  394.63   2.94  33.4  \n",
              "4  396.90   5.33  36.2  "
            ],
            "text/html": [
              "\n",
              "  <div id=\"df-96cd46b5-a2e2-4b56-87bc-d207894dcbcc\">\n",
              "    <div class=\"colab-df-container\">\n",
              "      <div>\n",
              "<style scoped>\n",
              "    .dataframe tbody tr th:only-of-type {\n",
              "        vertical-align: middle;\n",
              "    }\n",
              "\n",
              "    .dataframe tbody tr th {\n",
              "        vertical-align: top;\n",
              "    }\n",
              "\n",
              "    .dataframe thead th {\n",
              "        text-align: right;\n",
              "    }\n",
              "</style>\n",
              "<table border=\"1\" class=\"dataframe\">\n",
              "  <thead>\n",
              "    <tr style=\"text-align: right;\">\n",
              "      <th></th>\n",
              "      <th>crim</th>\n",
              "      <th>zn</th>\n",
              "      <th>indus</th>\n",
              "      <th>chas</th>\n",
              "      <th>nox</th>\n",
              "      <th>rm</th>\n",
              "      <th>age</th>\n",
              "      <th>dis</th>\n",
              "      <th>rad</th>\n",
              "      <th>tax</th>\n",
              "      <th>ptratio</th>\n",
              "      <th>black</th>\n",
              "      <th>lstat</th>\n",
              "      <th>medv</th>\n",
              "    </tr>\n",
              "  </thead>\n",
              "  <tbody>\n",
              "    <tr>\n",
              "      <th>0</th>\n",
              "      <td>0.00632</td>\n",
              "      <td>18.0</td>\n",
              "      <td>2.31</td>\n",
              "      <td>0</td>\n",
              "      <td>0.538</td>\n",
              "      <td>6.575</td>\n",
              "      <td>65.2</td>\n",
              "      <td>4.0900</td>\n",
              "      <td>1</td>\n",
              "      <td>296</td>\n",
              "      <td>15.3</td>\n",
              "      <td>396.90</td>\n",
              "      <td>4.98</td>\n",
              "      <td>24.0</td>\n",
              "    </tr>\n",
              "    <tr>\n",
              "      <th>1</th>\n",
              "      <td>0.02731</td>\n",
              "      <td>0.0</td>\n",
              "      <td>7.07</td>\n",
              "      <td>0</td>\n",
              "      <td>0.469</td>\n",
              "      <td>6.421</td>\n",
              "      <td>78.9</td>\n",
              "      <td>4.9671</td>\n",
              "      <td>2</td>\n",
              "      <td>242</td>\n",
              "      <td>17.8</td>\n",
              "      <td>396.90</td>\n",
              "      <td>9.14</td>\n",
              "      <td>21.6</td>\n",
              "    </tr>\n",
              "    <tr>\n",
              "      <th>2</th>\n",
              "      <td>0.02729</td>\n",
              "      <td>0.0</td>\n",
              "      <td>7.07</td>\n",
              "      <td>0</td>\n",
              "      <td>0.469</td>\n",
              "      <td>7.185</td>\n",
              "      <td>61.1</td>\n",
              "      <td>4.9671</td>\n",
              "      <td>2</td>\n",
              "      <td>242</td>\n",
              "      <td>17.8</td>\n",
              "      <td>392.83</td>\n",
              "      <td>4.03</td>\n",
              "      <td>34.7</td>\n",
              "    </tr>\n",
              "    <tr>\n",
              "      <th>3</th>\n",
              "      <td>0.03237</td>\n",
              "      <td>0.0</td>\n",
              "      <td>2.18</td>\n",
              "      <td>0</td>\n",
              "      <td>0.458</td>\n",
              "      <td>6.998</td>\n",
              "      <td>45.8</td>\n",
              "      <td>6.0622</td>\n",
              "      <td>3</td>\n",
              "      <td>222</td>\n",
              "      <td>18.7</td>\n",
              "      <td>394.63</td>\n",
              "      <td>2.94</td>\n",
              "      <td>33.4</td>\n",
              "    </tr>\n",
              "    <tr>\n",
              "      <th>4</th>\n",
              "      <td>0.06905</td>\n",
              "      <td>0.0</td>\n",
              "      <td>2.18</td>\n",
              "      <td>0</td>\n",
              "      <td>0.458</td>\n",
              "      <td>7.147</td>\n",
              "      <td>54.2</td>\n",
              "      <td>6.0622</td>\n",
              "      <td>3</td>\n",
              "      <td>222</td>\n",
              "      <td>18.7</td>\n",
              "      <td>396.90</td>\n",
              "      <td>5.33</td>\n",
              "      <td>36.2</td>\n",
              "    </tr>\n",
              "  </tbody>\n",
              "</table>\n",
              "</div>\n",
              "      <button class=\"colab-df-convert\" onclick=\"convertToInteractive('df-96cd46b5-a2e2-4b56-87bc-d207894dcbcc')\"\n",
              "              title=\"Convert this dataframe to an interactive table.\"\n",
              "              style=\"display:none;\">\n",
              "        \n",
              "  <svg xmlns=\"http://www.w3.org/2000/svg\" height=\"24px\"viewBox=\"0 0 24 24\"\n",
              "       width=\"24px\">\n",
              "    <path d=\"M0 0h24v24H0V0z\" fill=\"none\"/>\n",
              "    <path d=\"M18.56 5.44l.94 2.06.94-2.06 2.06-.94-2.06-.94-.94-2.06-.94 2.06-2.06.94zm-11 1L8.5 8.5l.94-2.06 2.06-.94-2.06-.94L8.5 2.5l-.94 2.06-2.06.94zm10 10l.94 2.06.94-2.06 2.06-.94-2.06-.94-.94-2.06-.94 2.06-2.06.94z\"/><path d=\"M17.41 7.96l-1.37-1.37c-.4-.4-.92-.59-1.43-.59-.52 0-1.04.2-1.43.59L10.3 9.45l-7.72 7.72c-.78.78-.78 2.05 0 2.83L4 21.41c.39.39.9.59 1.41.59.51 0 1.02-.2 1.41-.59l7.78-7.78 2.81-2.81c.8-.78.8-2.07 0-2.86zM5.41 20L4 18.59l7.72-7.72 1.47 1.35L5.41 20z\"/>\n",
              "  </svg>\n",
              "      </button>\n",
              "      \n",
              "  <style>\n",
              "    .colab-df-container {\n",
              "      display:flex;\n",
              "      flex-wrap:wrap;\n",
              "      gap: 12px;\n",
              "    }\n",
              "\n",
              "    .colab-df-convert {\n",
              "      background-color: #E8F0FE;\n",
              "      border: none;\n",
              "      border-radius: 50%;\n",
              "      cursor: pointer;\n",
              "      display: none;\n",
              "      fill: #1967D2;\n",
              "      height: 32px;\n",
              "      padding: 0 0 0 0;\n",
              "      width: 32px;\n",
              "    }\n",
              "\n",
              "    .colab-df-convert:hover {\n",
              "      background-color: #E2EBFA;\n",
              "      box-shadow: 0px 1px 2px rgba(60, 64, 67, 0.3), 0px 1px 3px 1px rgba(60, 64, 67, 0.15);\n",
              "      fill: #174EA6;\n",
              "    }\n",
              "\n",
              "    [theme=dark] .colab-df-convert {\n",
              "      background-color: #3B4455;\n",
              "      fill: #D2E3FC;\n",
              "    }\n",
              "\n",
              "    [theme=dark] .colab-df-convert:hover {\n",
              "      background-color: #434B5C;\n",
              "      box-shadow: 0px 1px 3px 1px rgba(0, 0, 0, 0.15);\n",
              "      filter: drop-shadow(0px 1px 2px rgba(0, 0, 0, 0.3));\n",
              "      fill: #FFFFFF;\n",
              "    }\n",
              "  </style>\n",
              "\n",
              "      <script>\n",
              "        const buttonEl =\n",
              "          document.querySelector('#df-96cd46b5-a2e2-4b56-87bc-d207894dcbcc button.colab-df-convert');\n",
              "        buttonEl.style.display =\n",
              "          google.colab.kernel.accessAllowed ? 'block' : 'none';\n",
              "\n",
              "        async function convertToInteractive(key) {\n",
              "          const element = document.querySelector('#df-96cd46b5-a2e2-4b56-87bc-d207894dcbcc');\n",
              "          const dataTable =\n",
              "            await google.colab.kernel.invokeFunction('convertToInteractive',\n",
              "                                                     [key], {});\n",
              "          if (!dataTable) return;\n",
              "\n",
              "          const docLinkHtml = 'Like what you see? Visit the ' +\n",
              "            '<a target=\"_blank\" href=https://colab.research.google.com/notebooks/data_table.ipynb>data table notebook</a>'\n",
              "            + ' to learn more about interactive tables.';\n",
              "          element.innerHTML = '';\n",
              "          dataTable['output_type'] = 'display_data';\n",
              "          await google.colab.output.renderOutput(dataTable, element);\n",
              "          const docLink = document.createElement('div');\n",
              "          docLink.innerHTML = docLinkHtml;\n",
              "          element.appendChild(docLink);\n",
              "        }\n",
              "      </script>\n",
              "    </div>\n",
              "  </div>\n",
              "  "
            ]
          },
          "metadata": {},
          "execution_count": 11
        }
      ]
    },
    {
      "cell_type": "markdown",
      "source": [
        "# Preparation and Multicolinearity Handling"
      ],
      "metadata": {
        "id": "RNW_-EvbANMf"
      }
    },
    {
      "cell_type": "markdown",
      "source": [
        "### Data Cleaning"
      ],
      "metadata": {
        "id": "CvoK6nM5iRpx"
      }
    },
    {
      "cell_type": "code",
      "source": [
        "df.isnull().sum()"
      ],
      "metadata": {
        "colab": {
          "base_uri": "https://localhost:8080/"
        },
        "id": "UBJW1lm7iDOs",
        "outputId": "ced535dc-2616-415b-d987-65fca09edb02"
      },
      "execution_count": 4,
      "outputs": [
        {
          "output_type": "execute_result",
          "data": {
            "text/plain": [
              "crim       0\n",
              "zn         0\n",
              "indus      0\n",
              "chas       0\n",
              "nox        0\n",
              "rm         0\n",
              "age        0\n",
              "dis        0\n",
              "rad        0\n",
              "tax        0\n",
              "ptratio    0\n",
              "black      0\n",
              "lstat      0\n",
              "medv       0\n",
              "dtype: int64"
            ]
          },
          "metadata": {},
          "execution_count": 4
        }
      ]
    },
    {
      "cell_type": "code",
      "source": [
        "df.duplicated().sum()"
      ],
      "metadata": {
        "colab": {
          "base_uri": "https://localhost:8080/"
        },
        "id": "H9zqeznoiUhD",
        "outputId": "44c3290a-4a1d-459f-c0e7-80eeacd952af"
      },
      "execution_count": 5,
      "outputs": [
        {
          "output_type": "execute_result",
          "data": {
            "text/plain": [
              "0"
            ]
          },
          "metadata": {},
          "execution_count": 5
        }
      ]
    },
    {
      "cell_type": "code",
      "source": [
        "df.describe()"
      ],
      "metadata": {
        "colab": {
          "base_uri": "https://localhost:8080/",
          "height": 300
        },
        "id": "akcmUNYBwdX6",
        "outputId": "c27b8e50-2a40-44b6-a465-82725fdaf5da"
      },
      "execution_count": 6,
      "outputs": [
        {
          "output_type": "execute_result",
          "data": {
            "text/plain": [
              "             crim          zn       indus        chas         nox          rm  \\\n",
              "count  506.000000  506.000000  506.000000  506.000000  506.000000  506.000000   \n",
              "mean     3.613524   11.363636   11.136779    0.069170    0.554695    6.284634   \n",
              "std      8.601545   23.322453    6.860353    0.253994    0.115878    0.702617   \n",
              "min      0.006320    0.000000    0.460000    0.000000    0.385000    3.561000   \n",
              "25%      0.082045    0.000000    5.190000    0.000000    0.449000    5.885500   \n",
              "50%      0.256510    0.000000    9.690000    0.000000    0.538000    6.208500   \n",
              "75%      3.677083   12.500000   18.100000    0.000000    0.624000    6.623500   \n",
              "max     88.976200  100.000000   27.740000    1.000000    0.871000    8.780000   \n",
              "\n",
              "              age         dis         rad         tax     ptratio       black  \\\n",
              "count  506.000000  506.000000  506.000000  506.000000  506.000000  506.000000   \n",
              "mean    68.574901    3.795043    9.549407  408.237154   18.455534  356.674032   \n",
              "std     28.148861    2.105710    8.707259  168.537116    2.164946   91.294864   \n",
              "min      2.900000    1.129600    1.000000  187.000000   12.600000    0.320000   \n",
              "25%     45.025000    2.100175    4.000000  279.000000   17.400000  375.377500   \n",
              "50%     77.500000    3.207450    5.000000  330.000000   19.050000  391.440000   \n",
              "75%     94.075000    5.188425   24.000000  666.000000   20.200000  396.225000   \n",
              "max    100.000000   12.126500   24.000000  711.000000   22.000000  396.900000   \n",
              "\n",
              "            lstat        medv  \n",
              "count  506.000000  506.000000  \n",
              "mean    12.653063   22.532806  \n",
              "std      7.141062    9.197104  \n",
              "min      1.730000    5.000000  \n",
              "25%      6.950000   17.025000  \n",
              "50%     11.360000   21.200000  \n",
              "75%     16.955000   25.000000  \n",
              "max     37.970000   50.000000  "
            ],
            "text/html": [
              "\n",
              "  <div id=\"df-9fa15558-8692-41bf-8235-ac715d97ce4f\">\n",
              "    <div class=\"colab-df-container\">\n",
              "      <div>\n",
              "<style scoped>\n",
              "    .dataframe tbody tr th:only-of-type {\n",
              "        vertical-align: middle;\n",
              "    }\n",
              "\n",
              "    .dataframe tbody tr th {\n",
              "        vertical-align: top;\n",
              "    }\n",
              "\n",
              "    .dataframe thead th {\n",
              "        text-align: right;\n",
              "    }\n",
              "</style>\n",
              "<table border=\"1\" class=\"dataframe\">\n",
              "  <thead>\n",
              "    <tr style=\"text-align: right;\">\n",
              "      <th></th>\n",
              "      <th>crim</th>\n",
              "      <th>zn</th>\n",
              "      <th>indus</th>\n",
              "      <th>chas</th>\n",
              "      <th>nox</th>\n",
              "      <th>rm</th>\n",
              "      <th>age</th>\n",
              "      <th>dis</th>\n",
              "      <th>rad</th>\n",
              "      <th>tax</th>\n",
              "      <th>ptratio</th>\n",
              "      <th>black</th>\n",
              "      <th>lstat</th>\n",
              "      <th>medv</th>\n",
              "    </tr>\n",
              "  </thead>\n",
              "  <tbody>\n",
              "    <tr>\n",
              "      <th>count</th>\n",
              "      <td>506.000000</td>\n",
              "      <td>506.000000</td>\n",
              "      <td>506.000000</td>\n",
              "      <td>506.000000</td>\n",
              "      <td>506.000000</td>\n",
              "      <td>506.000000</td>\n",
              "      <td>506.000000</td>\n",
              "      <td>506.000000</td>\n",
              "      <td>506.000000</td>\n",
              "      <td>506.000000</td>\n",
              "      <td>506.000000</td>\n",
              "      <td>506.000000</td>\n",
              "      <td>506.000000</td>\n",
              "      <td>506.000000</td>\n",
              "    </tr>\n",
              "    <tr>\n",
              "      <th>mean</th>\n",
              "      <td>3.613524</td>\n",
              "      <td>11.363636</td>\n",
              "      <td>11.136779</td>\n",
              "      <td>0.069170</td>\n",
              "      <td>0.554695</td>\n",
              "      <td>6.284634</td>\n",
              "      <td>68.574901</td>\n",
              "      <td>3.795043</td>\n",
              "      <td>9.549407</td>\n",
              "      <td>408.237154</td>\n",
              "      <td>18.455534</td>\n",
              "      <td>356.674032</td>\n",
              "      <td>12.653063</td>\n",
              "      <td>22.532806</td>\n",
              "    </tr>\n",
              "    <tr>\n",
              "      <th>std</th>\n",
              "      <td>8.601545</td>\n",
              "      <td>23.322453</td>\n",
              "      <td>6.860353</td>\n",
              "      <td>0.253994</td>\n",
              "      <td>0.115878</td>\n",
              "      <td>0.702617</td>\n",
              "      <td>28.148861</td>\n",
              "      <td>2.105710</td>\n",
              "      <td>8.707259</td>\n",
              "      <td>168.537116</td>\n",
              "      <td>2.164946</td>\n",
              "      <td>91.294864</td>\n",
              "      <td>7.141062</td>\n",
              "      <td>9.197104</td>\n",
              "    </tr>\n",
              "    <tr>\n",
              "      <th>min</th>\n",
              "      <td>0.006320</td>\n",
              "      <td>0.000000</td>\n",
              "      <td>0.460000</td>\n",
              "      <td>0.000000</td>\n",
              "      <td>0.385000</td>\n",
              "      <td>3.561000</td>\n",
              "      <td>2.900000</td>\n",
              "      <td>1.129600</td>\n",
              "      <td>1.000000</td>\n",
              "      <td>187.000000</td>\n",
              "      <td>12.600000</td>\n",
              "      <td>0.320000</td>\n",
              "      <td>1.730000</td>\n",
              "      <td>5.000000</td>\n",
              "    </tr>\n",
              "    <tr>\n",
              "      <th>25%</th>\n",
              "      <td>0.082045</td>\n",
              "      <td>0.000000</td>\n",
              "      <td>5.190000</td>\n",
              "      <td>0.000000</td>\n",
              "      <td>0.449000</td>\n",
              "      <td>5.885500</td>\n",
              "      <td>45.025000</td>\n",
              "      <td>2.100175</td>\n",
              "      <td>4.000000</td>\n",
              "      <td>279.000000</td>\n",
              "      <td>17.400000</td>\n",
              "      <td>375.377500</td>\n",
              "      <td>6.950000</td>\n",
              "      <td>17.025000</td>\n",
              "    </tr>\n",
              "    <tr>\n",
              "      <th>50%</th>\n",
              "      <td>0.256510</td>\n",
              "      <td>0.000000</td>\n",
              "      <td>9.690000</td>\n",
              "      <td>0.000000</td>\n",
              "      <td>0.538000</td>\n",
              "      <td>6.208500</td>\n",
              "      <td>77.500000</td>\n",
              "      <td>3.207450</td>\n",
              "      <td>5.000000</td>\n",
              "      <td>330.000000</td>\n",
              "      <td>19.050000</td>\n",
              "      <td>391.440000</td>\n",
              "      <td>11.360000</td>\n",
              "      <td>21.200000</td>\n",
              "    </tr>\n",
              "    <tr>\n",
              "      <th>75%</th>\n",
              "      <td>3.677083</td>\n",
              "      <td>12.500000</td>\n",
              "      <td>18.100000</td>\n",
              "      <td>0.000000</td>\n",
              "      <td>0.624000</td>\n",
              "      <td>6.623500</td>\n",
              "      <td>94.075000</td>\n",
              "      <td>5.188425</td>\n",
              "      <td>24.000000</td>\n",
              "      <td>666.000000</td>\n",
              "      <td>20.200000</td>\n",
              "      <td>396.225000</td>\n",
              "      <td>16.955000</td>\n",
              "      <td>25.000000</td>\n",
              "    </tr>\n",
              "    <tr>\n",
              "      <th>max</th>\n",
              "      <td>88.976200</td>\n",
              "      <td>100.000000</td>\n",
              "      <td>27.740000</td>\n",
              "      <td>1.000000</td>\n",
              "      <td>0.871000</td>\n",
              "      <td>8.780000</td>\n",
              "      <td>100.000000</td>\n",
              "      <td>12.126500</td>\n",
              "      <td>24.000000</td>\n",
              "      <td>711.000000</td>\n",
              "      <td>22.000000</td>\n",
              "      <td>396.900000</td>\n",
              "      <td>37.970000</td>\n",
              "      <td>50.000000</td>\n",
              "    </tr>\n",
              "  </tbody>\n",
              "</table>\n",
              "</div>\n",
              "      <button class=\"colab-df-convert\" onclick=\"convertToInteractive('df-9fa15558-8692-41bf-8235-ac715d97ce4f')\"\n",
              "              title=\"Convert this dataframe to an interactive table.\"\n",
              "              style=\"display:none;\">\n",
              "        \n",
              "  <svg xmlns=\"http://www.w3.org/2000/svg\" height=\"24px\"viewBox=\"0 0 24 24\"\n",
              "       width=\"24px\">\n",
              "    <path d=\"M0 0h24v24H0V0z\" fill=\"none\"/>\n",
              "    <path d=\"M18.56 5.44l.94 2.06.94-2.06 2.06-.94-2.06-.94-.94-2.06-.94 2.06-2.06.94zm-11 1L8.5 8.5l.94-2.06 2.06-.94-2.06-.94L8.5 2.5l-.94 2.06-2.06.94zm10 10l.94 2.06.94-2.06 2.06-.94-2.06-.94-.94-2.06-.94 2.06-2.06.94z\"/><path d=\"M17.41 7.96l-1.37-1.37c-.4-.4-.92-.59-1.43-.59-.52 0-1.04.2-1.43.59L10.3 9.45l-7.72 7.72c-.78.78-.78 2.05 0 2.83L4 21.41c.39.39.9.59 1.41.59.51 0 1.02-.2 1.41-.59l7.78-7.78 2.81-2.81c.8-.78.8-2.07 0-2.86zM5.41 20L4 18.59l7.72-7.72 1.47 1.35L5.41 20z\"/>\n",
              "  </svg>\n",
              "      </button>\n",
              "      \n",
              "  <style>\n",
              "    .colab-df-container {\n",
              "      display:flex;\n",
              "      flex-wrap:wrap;\n",
              "      gap: 12px;\n",
              "    }\n",
              "\n",
              "    .colab-df-convert {\n",
              "      background-color: #E8F0FE;\n",
              "      border: none;\n",
              "      border-radius: 50%;\n",
              "      cursor: pointer;\n",
              "      display: none;\n",
              "      fill: #1967D2;\n",
              "      height: 32px;\n",
              "      padding: 0 0 0 0;\n",
              "      width: 32px;\n",
              "    }\n",
              "\n",
              "    .colab-df-convert:hover {\n",
              "      background-color: #E2EBFA;\n",
              "      box-shadow: 0px 1px 2px rgba(60, 64, 67, 0.3), 0px 1px 3px 1px rgba(60, 64, 67, 0.15);\n",
              "      fill: #174EA6;\n",
              "    }\n",
              "\n",
              "    [theme=dark] .colab-df-convert {\n",
              "      background-color: #3B4455;\n",
              "      fill: #D2E3FC;\n",
              "    }\n",
              "\n",
              "    [theme=dark] .colab-df-convert:hover {\n",
              "      background-color: #434B5C;\n",
              "      box-shadow: 0px 1px 3px 1px rgba(0, 0, 0, 0.15);\n",
              "      filter: drop-shadow(0px 1px 2px rgba(0, 0, 0, 0.3));\n",
              "      fill: #FFFFFF;\n",
              "    }\n",
              "  </style>\n",
              "\n",
              "      <script>\n",
              "        const buttonEl =\n",
              "          document.querySelector('#df-9fa15558-8692-41bf-8235-ac715d97ce4f button.colab-df-convert');\n",
              "        buttonEl.style.display =\n",
              "          google.colab.kernel.accessAllowed ? 'block' : 'none';\n",
              "\n",
              "        async function convertToInteractive(key) {\n",
              "          const element = document.querySelector('#df-9fa15558-8692-41bf-8235-ac715d97ce4f');\n",
              "          const dataTable =\n",
              "            await google.colab.kernel.invokeFunction('convertToInteractive',\n",
              "                                                     [key], {});\n",
              "          if (!dataTable) return;\n",
              "\n",
              "          const docLinkHtml = 'Like what you see? Visit the ' +\n",
              "            '<a target=\"_blank\" href=https://colab.research.google.com/notebooks/data_table.ipynb>data table notebook</a>'\n",
              "            + ' to learn more about interactive tables.';\n",
              "          element.innerHTML = '';\n",
              "          dataTable['output_type'] = 'display_data';\n",
              "          await google.colab.output.renderOutput(dataTable, element);\n",
              "          const docLink = document.createElement('div');\n",
              "          docLink.innerHTML = docLinkHtml;\n",
              "          element.appendChild(docLink);\n",
              "        }\n",
              "      </script>\n",
              "    </div>\n",
              "  </div>\n",
              "  "
            ]
          },
          "metadata": {},
          "execution_count": 6
        }
      ]
    },
    {
      "cell_type": "code",
      "source": [
        "df.info()"
      ],
      "metadata": {
        "colab": {
          "base_uri": "https://localhost:8080/"
        },
        "id": "FM_HK1pZpcB4",
        "outputId": "adf635bb-f633-4eaa-c7b5-be2d3501c357"
      },
      "execution_count": 7,
      "outputs": [
        {
          "output_type": "stream",
          "name": "stdout",
          "text": [
            "<class 'pandas.core.frame.DataFrame'>\n",
            "RangeIndex: 506 entries, 0 to 505\n",
            "Data columns (total 14 columns):\n",
            " #   Column   Non-Null Count  Dtype  \n",
            "---  ------   --------------  -----  \n",
            " 0   crim     506 non-null    float64\n",
            " 1   zn       506 non-null    float64\n",
            " 2   indus    506 non-null    float64\n",
            " 3   chas     506 non-null    int64  \n",
            " 4   nox      506 non-null    float64\n",
            " 5   rm       506 non-null    float64\n",
            " 6   age      506 non-null    float64\n",
            " 7   dis      506 non-null    float64\n",
            " 8   rad      506 non-null    int64  \n",
            " 9   tax      506 non-null    int64  \n",
            " 10  ptratio  506 non-null    float64\n",
            " 11  black    506 non-null    float64\n",
            " 12  lstat    506 non-null    float64\n",
            " 13  medv     506 non-null    float64\n",
            "dtypes: float64(11), int64(3)\n",
            "memory usage: 55.5 KB\n"
          ]
        }
      ]
    },
    {
      "cell_type": "markdown",
      "source": [
        "### Split Data"
      ],
      "metadata": {
        "id": "bje4KUmUiZtr"
      }
    },
    {
      "cell_type": "code",
      "source": [
        "# split train test\n",
        "from sklearn.model_selection import train_test_split\n",
        "\n",
        "feature = df.drop(columns='medv')\n",
        "target = df[['medv']]\n",
        "\n",
        "feature_df_train, feature_df_test, target_df_train, target_df_test = train_test_split(feature, target, test_size=0.20, random_state=42)\n",
        "feature_df_train, feature_df_validation, target_df_train, target_df_validation = train_test_split(feature_df_train, target_df_train, test_size=0.20, random_state=42)"
      ],
      "metadata": {
        "id": "TbpQ9DXeidg3"
      },
      "execution_count": 12,
      "outputs": []
    },
    {
      "cell_type": "markdown",
      "source": [
        "### Feature Correlation - VIF Check"
      ],
      "metadata": {
        "id": "9I7K7naHkhT6"
      }
    },
    {
      "cell_type": "code",
      "source": [
        "# calculate VIF scores\n",
        "from statsmodels.stats.outliers_influence import variance_inflation_factor as vif \n",
        "from statsmodels.tools.tools import add_constant\n",
        "\n",
        "X = add_constant(feature_df_train)\n",
        "\n",
        "vif_df = pd.DataFrame([vif(X.values, i) \n",
        "               for i in range(X.shape[1])], \n",
        "              index=X.columns).reset_index()\n",
        "vif_df.columns = ['feature','vif_score']\n",
        "vif_df = vif_df.loc[vif_df.feature!='const']\n",
        "vif_df"
      ],
      "metadata": {
        "colab": {
          "base_uri": "https://localhost:8080/",
          "height": 492
        },
        "id": "MyDPOWPwkVHY",
        "outputId": "fb851424-2073-43a1-f732-c4071312b354"
      },
      "execution_count": 13,
      "outputs": [
        {
          "output_type": "stream",
          "name": "stderr",
          "text": [
            "/usr/local/lib/python3.7/dist-packages/statsmodels/tsa/tsatools.py:142: FutureWarning: In a future version of pandas all arguments of concat except for the argument 'objs' will be keyword-only\n",
            "  x = pd.concat(x[::order], 1)\n"
          ]
        },
        {
          "output_type": "execute_result",
          "data": {
            "text/plain": [
              "    feature  vif_score\n",
              "1      crim   1.750939\n",
              "2        zn   2.473421\n",
              "3     indus   3.741988\n",
              "4      chas   1.110042\n",
              "5       nox   4.585650\n",
              "6        rm   1.972174\n",
              "7       age   3.127443\n",
              "8       dis   4.390458\n",
              "9       rad   7.182410\n",
              "10      tax   8.268145\n",
              "11  ptratio   1.854101\n",
              "12    black   1.369229\n",
              "13    lstat   3.020946"
            ],
            "text/html": [
              "\n",
              "  <div id=\"df-4da9341e-cf9a-4a63-ad07-6d9e7459f7d9\">\n",
              "    <div class=\"colab-df-container\">\n",
              "      <div>\n",
              "<style scoped>\n",
              "    .dataframe tbody tr th:only-of-type {\n",
              "        vertical-align: middle;\n",
              "    }\n",
              "\n",
              "    .dataframe tbody tr th {\n",
              "        vertical-align: top;\n",
              "    }\n",
              "\n",
              "    .dataframe thead th {\n",
              "        text-align: right;\n",
              "    }\n",
              "</style>\n",
              "<table border=\"1\" class=\"dataframe\">\n",
              "  <thead>\n",
              "    <tr style=\"text-align: right;\">\n",
              "      <th></th>\n",
              "      <th>feature</th>\n",
              "      <th>vif_score</th>\n",
              "    </tr>\n",
              "  </thead>\n",
              "  <tbody>\n",
              "    <tr>\n",
              "      <th>1</th>\n",
              "      <td>crim</td>\n",
              "      <td>1.750939</td>\n",
              "    </tr>\n",
              "    <tr>\n",
              "      <th>2</th>\n",
              "      <td>zn</td>\n",
              "      <td>2.473421</td>\n",
              "    </tr>\n",
              "    <tr>\n",
              "      <th>3</th>\n",
              "      <td>indus</td>\n",
              "      <td>3.741988</td>\n",
              "    </tr>\n",
              "    <tr>\n",
              "      <th>4</th>\n",
              "      <td>chas</td>\n",
              "      <td>1.110042</td>\n",
              "    </tr>\n",
              "    <tr>\n",
              "      <th>5</th>\n",
              "      <td>nox</td>\n",
              "      <td>4.585650</td>\n",
              "    </tr>\n",
              "    <tr>\n",
              "      <th>6</th>\n",
              "      <td>rm</td>\n",
              "      <td>1.972174</td>\n",
              "    </tr>\n",
              "    <tr>\n",
              "      <th>7</th>\n",
              "      <td>age</td>\n",
              "      <td>3.127443</td>\n",
              "    </tr>\n",
              "    <tr>\n",
              "      <th>8</th>\n",
              "      <td>dis</td>\n",
              "      <td>4.390458</td>\n",
              "    </tr>\n",
              "    <tr>\n",
              "      <th>9</th>\n",
              "      <td>rad</td>\n",
              "      <td>7.182410</td>\n",
              "    </tr>\n",
              "    <tr>\n",
              "      <th>10</th>\n",
              "      <td>tax</td>\n",
              "      <td>8.268145</td>\n",
              "    </tr>\n",
              "    <tr>\n",
              "      <th>11</th>\n",
              "      <td>ptratio</td>\n",
              "      <td>1.854101</td>\n",
              "    </tr>\n",
              "    <tr>\n",
              "      <th>12</th>\n",
              "      <td>black</td>\n",
              "      <td>1.369229</td>\n",
              "    </tr>\n",
              "    <tr>\n",
              "      <th>13</th>\n",
              "      <td>lstat</td>\n",
              "      <td>3.020946</td>\n",
              "    </tr>\n",
              "  </tbody>\n",
              "</table>\n",
              "</div>\n",
              "      <button class=\"colab-df-convert\" onclick=\"convertToInteractive('df-4da9341e-cf9a-4a63-ad07-6d9e7459f7d9')\"\n",
              "              title=\"Convert this dataframe to an interactive table.\"\n",
              "              style=\"display:none;\">\n",
              "        \n",
              "  <svg xmlns=\"http://www.w3.org/2000/svg\" height=\"24px\"viewBox=\"0 0 24 24\"\n",
              "       width=\"24px\">\n",
              "    <path d=\"M0 0h24v24H0V0z\" fill=\"none\"/>\n",
              "    <path d=\"M18.56 5.44l.94 2.06.94-2.06 2.06-.94-2.06-.94-.94-2.06-.94 2.06-2.06.94zm-11 1L8.5 8.5l.94-2.06 2.06-.94-2.06-.94L8.5 2.5l-.94 2.06-2.06.94zm10 10l.94 2.06.94-2.06 2.06-.94-2.06-.94-.94-2.06-.94 2.06-2.06.94z\"/><path d=\"M17.41 7.96l-1.37-1.37c-.4-.4-.92-.59-1.43-.59-.52 0-1.04.2-1.43.59L10.3 9.45l-7.72 7.72c-.78.78-.78 2.05 0 2.83L4 21.41c.39.39.9.59 1.41.59.51 0 1.02-.2 1.41-.59l7.78-7.78 2.81-2.81c.8-.78.8-2.07 0-2.86zM5.41 20L4 18.59l7.72-7.72 1.47 1.35L5.41 20z\"/>\n",
              "  </svg>\n",
              "      </button>\n",
              "      \n",
              "  <style>\n",
              "    .colab-df-container {\n",
              "      display:flex;\n",
              "      flex-wrap:wrap;\n",
              "      gap: 12px;\n",
              "    }\n",
              "\n",
              "    .colab-df-convert {\n",
              "      background-color: #E8F0FE;\n",
              "      border: none;\n",
              "      border-radius: 50%;\n",
              "      cursor: pointer;\n",
              "      display: none;\n",
              "      fill: #1967D2;\n",
              "      height: 32px;\n",
              "      padding: 0 0 0 0;\n",
              "      width: 32px;\n",
              "    }\n",
              "\n",
              "    .colab-df-convert:hover {\n",
              "      background-color: #E2EBFA;\n",
              "      box-shadow: 0px 1px 2px rgba(60, 64, 67, 0.3), 0px 1px 3px 1px rgba(60, 64, 67, 0.15);\n",
              "      fill: #174EA6;\n",
              "    }\n",
              "\n",
              "    [theme=dark] .colab-df-convert {\n",
              "      background-color: #3B4455;\n",
              "      fill: #D2E3FC;\n",
              "    }\n",
              "\n",
              "    [theme=dark] .colab-df-convert:hover {\n",
              "      background-color: #434B5C;\n",
              "      box-shadow: 0px 1px 3px 1px rgba(0, 0, 0, 0.15);\n",
              "      filter: drop-shadow(0px 1px 2px rgba(0, 0, 0, 0.3));\n",
              "      fill: #FFFFFF;\n",
              "    }\n",
              "  </style>\n",
              "\n",
              "      <script>\n",
              "        const buttonEl =\n",
              "          document.querySelector('#df-4da9341e-cf9a-4a63-ad07-6d9e7459f7d9 button.colab-df-convert');\n",
              "        buttonEl.style.display =\n",
              "          google.colab.kernel.accessAllowed ? 'block' : 'none';\n",
              "\n",
              "        async function convertToInteractive(key) {\n",
              "          const element = document.querySelector('#df-4da9341e-cf9a-4a63-ad07-6d9e7459f7d9');\n",
              "          const dataTable =\n",
              "            await google.colab.kernel.invokeFunction('convertToInteractive',\n",
              "                                                     [key], {});\n",
              "          if (!dataTable) return;\n",
              "\n",
              "          const docLinkHtml = 'Like what you see? Visit the ' +\n",
              "            '<a target=\"_blank\" href=https://colab.research.google.com/notebooks/data_table.ipynb>data table notebook</a>'\n",
              "            + ' to learn more about interactive tables.';\n",
              "          element.innerHTML = '';\n",
              "          dataTable['output_type'] = 'display_data';\n",
              "          await google.colab.output.renderOutput(dataTable, element);\n",
              "          const docLink = document.createElement('div');\n",
              "          docLink.innerHTML = docLinkHtml;\n",
              "          element.appendChild(docLink);\n",
              "        }\n",
              "      </script>\n",
              "    </div>\n",
              "  </div>\n",
              "  "
            ]
          },
          "metadata": {},
          "execution_count": 13
        }
      ]
    },
    {
      "cell_type": "markdown",
      "source": [
        "There are several features with high VIF scores (>3):\n",
        "\n",
        "1. `indus`\n",
        "2. `nox`\n",
        "3. `dis`\n",
        "4. `rad`\n",
        "5. `tax`"
      ],
      "metadata": {
        "id": "2EeUCjMYk-45"
      }
    },
    {
      "cell_type": "code",
      "source": [
        "# heatmap correlation\n",
        "df_train = pd.concat([feature_df_train, target_df_train], axis=1)\n",
        "corr = df_train.corr()\n",
        "mask = np.triu(np.ones_like(corr, dtype=bool))\n",
        "\n",
        "plt.figure(figsize=(10,7))\n",
        "sns.heatmap(corr, annot=True, fmt='.2f', mask = mask, square=True)\n",
        "plt.show()"
      ],
      "metadata": {
        "colab": {
          "base_uri": "https://localhost:8080/",
          "height": 452
        },
        "id": "vfvvM4tvmIFH",
        "outputId": "813f8134-d6d9-4b85-9573-6af135192bc3"
      },
      "execution_count": 14,
      "outputs": [
        {
          "output_type": "display_data",
          "data": {
            "text/plain": [
              "<Figure size 720x504 with 2 Axes>"
            ],
            "image/png": "[encoded data removed]"
          },
          "metadata": {
            "needs_background": "light"
          }
        }
      ]
    },
    {
      "cell_type": "markdown",
      "source": [
        "From heatmap correlation map, we can seen that the variable with absolute correlation larger than 0.8 are **tax & rad** which are highly correlated with r value of -> 0.91, we need to only pick 1 and drop the others.\n",
        "\n",
        "Other variables are below the 0.8 standard so we keep them as is\n",
        "\n",
        "Since tax has higher correlation with target variable (medv) compared to rad, so we choose to keep tax and drop rad"
      ],
      "metadata": {
        "id": "o8XjVWJ0mckt"
      }
    },
    {
      "cell_type": "markdown",
      "source": [
        "We choose to retain `tax`. And, we need to drop:\n",
        "* `rad`"
      ],
      "metadata": {
        "id": "Tb4IZR83DDP2"
      }
    },
    {
      "cell_type": "code",
      "source": [
        "# drop redundant features\n",
        "feature_df_train = feature_df_train.drop(columns=['rad'])\n",
        "feature_df_test = feature_df_test.drop(columns=['rad'])\n",
        "feature_df_validation = feature_df_validation.drop(columns=['rad'])"
      ],
      "metadata": {
        "id": "DziR2CYqrV2J"
      },
      "execution_count": 15,
      "outputs": []
    },
    {
      "cell_type": "markdown",
      "source": [
        "## Recheck VIF"
      ],
      "metadata": {
        "id": "l1oXydrXDNS3"
      }
    },
    {
      "cell_type": "code",
      "source": [
        "# re-calculate VIF scores\n",
        "from statsmodels.stats.outliers_influence import variance_inflation_factor as vif \n",
        "from statsmodels.tools.tools import add_constant\n",
        "\n",
        "X = add_constant(feature_df_train)\n",
        "\n",
        "vif_df = pd.DataFrame([vif(X.values, i) \n",
        "               for i in range(X.shape[1])], \n",
        "              index=X.columns).reset_index()\n",
        "vif_df.columns = ['feature','vif_score']\n",
        "vif_df = vif_df.loc[vif_df.feature!='const']\n",
        "vif_df"
      ],
      "metadata": {
        "colab": {
          "base_uri": "https://localhost:8080/",
          "height": 460
        },
        "id": "s2y8DeYWryy6",
        "outputId": "aad95b6d-6ab3-49b9-8f0e-281a3335d422"
      },
      "execution_count": 16,
      "outputs": [
        {
          "output_type": "stream",
          "name": "stderr",
          "text": [
            "/usr/local/lib/python3.7/dist-packages/statsmodels/tsa/tsatools.py:142: FutureWarning: In a future version of pandas all arguments of concat except for the argument 'objs' will be keyword-only\n",
            "  x = pd.concat(x[::order], 1)\n"
          ]
        },
        {
          "output_type": "execute_result",
          "data": {
            "text/plain": [
              "    feature  vif_score\n",
              "1      crim   1.615076\n",
              "2        zn   2.415036\n",
              "3     indus   3.500250\n",
              "4      chas   1.097962\n",
              "5       nox   4.552308\n",
              "6        rm   1.923266\n",
              "7       age   3.119817\n",
              "8       dis   4.390362\n",
              "9       tax   3.191363\n",
              "10  ptratio   1.804558\n",
              "11    black   1.358971\n",
              "12    lstat   3.004498"
            ],
            "text/html": [
              "\n",
              "  <div id=\"df-c4cfa6a8-0450-444d-961b-541a314aae7f\">\n",
              "    <div class=\"colab-df-container\">\n",
              "      <div>\n",
              "<style scoped>\n",
              "    .dataframe tbody tr th:only-of-type {\n",
              "        vertical-align: middle;\n",
              "    }\n",
              "\n",
              "    .dataframe tbody tr th {\n",
              "        vertical-align: top;\n",
              "    }\n",
              "\n",
              "    .dataframe thead th {\n",
              "        text-align: right;\n",
              "    }\n",
              "</style>\n",
              "<table border=\"1\" class=\"dataframe\">\n",
              "  <thead>\n",
              "    <tr style=\"text-align: right;\">\n",
              "      <th></th>\n",
              "      <th>feature</th>\n",
              "      <th>vif_score</th>\n",
              "    </tr>\n",
              "  </thead>\n",
              "  <tbody>\n",
              "    <tr>\n",
              "      <th>1</th>\n",
              "      <td>crim</td>\n",
              "      <td>1.615076</td>\n",
              "    </tr>\n",
              "    <tr>\n",
              "      <th>2</th>\n",
              "      <td>zn</td>\n",
              "      <td>2.415036</td>\n",
              "    </tr>\n",
              "    <tr>\n",
              "      <th>3</th>\n",
              "      <td>indus</td>\n",
              "      <td>3.500250</td>\n",
              "    </tr>\n",
              "    <tr>\n",
              "      <th>4</th>\n",
              "      <td>chas</td>\n",
              "      <td>1.097962</td>\n",
              "    </tr>\n",
              "    <tr>\n",
              "      <th>5</th>\n",
              "      <td>nox</td>\n",
              "      <td>4.552308</td>\n",
              "    </tr>\n",
              "    <tr>\n",
              "      <th>6</th>\n",
              "      <td>rm</td>\n",
              "      <td>1.923266</td>\n",
              "    </tr>\n",
              "    <tr>\n",
              "      <th>7</th>\n",
              "      <td>age</td>\n",
              "      <td>3.119817</td>\n",
              "    </tr>\n",
              "    <tr>\n",
              "      <th>8</th>\n",
              "      <td>dis</td>\n",
              "      <td>4.390362</td>\n",
              "    </tr>\n",
              "    <tr>\n",
              "      <th>9</th>\n",
              "      <td>tax</td>\n",
              "      <td>3.191363</td>\n",
              "    </tr>\n",
              "    <tr>\n",
              "      <th>10</th>\n",
              "      <td>ptratio</td>\n",
              "      <td>1.804558</td>\n",
              "    </tr>\n",
              "    <tr>\n",
              "      <th>11</th>\n",
              "      <td>black</td>\n",
              "      <td>1.358971</td>\n",
              "    </tr>\n",
              "    <tr>\n",
              "      <th>12</th>\n",
              "      <td>lstat</td>\n",
              "      <td>3.004498</td>\n",
              "    </tr>\n",
              "  </tbody>\n",
              "</table>\n",
              "</div>\n",
              "      <button class=\"colab-df-convert\" onclick=\"convertToInteractive('df-c4cfa6a8-0450-444d-961b-541a314aae7f')\"\n",
              "              title=\"Convert this dataframe to an interactive table.\"\n",
              "              style=\"display:none;\">\n",
              "        \n",
              "  <svg xmlns=\"http://www.w3.org/2000/svg\" height=\"24px\"viewBox=\"0 0 24 24\"\n",
              "       width=\"24px\">\n",
              "    <path d=\"M0 0h24v24H0V0z\" fill=\"none\"/>\n",
              "    <path d=\"M18.56 5.44l.94 2.06.94-2.06 2.06-.94-2.06-.94-.94-2.06-.94 2.06-2.06.94zm-11 1L8.5 8.5l.94-2.06 2.06-.94-2.06-.94L8.5 2.5l-.94 2.06-2.06.94zm10 10l.94 2.06.94-2.06 2.06-.94-2.06-.94-.94-2.06-.94 2.06-2.06.94z\"/><path d=\"M17.41 7.96l-1.37-1.37c-.4-.4-.92-.59-1.43-.59-.52 0-1.04.2-1.43.59L10.3 9.45l-7.72 7.72c-.78.78-.78 2.05 0 2.83L4 21.41c.39.39.9.59 1.41.59.51 0 1.02-.2 1.41-.59l7.78-7.78 2.81-2.81c.8-.78.8-2.07 0-2.86zM5.41 20L4 18.59l7.72-7.72 1.47 1.35L5.41 20z\"/>\n",
              "  </svg>\n",
              "      </button>\n",
              "      \n",
              "  <style>\n",
              "    .colab-df-container {\n",
              "      display:flex;\n",
              "      flex-wrap:wrap;\n",
              "      gap: 12px;\n",
              "    }\n",
              "\n",
              "    .colab-df-convert {\n",
              "      background-color: #E8F0FE;\n",
              "      border: none;\n",
              "      border-radius: 50%;\n",
              "      cursor: pointer;\n",
              "      display: none;\n",
              "      fill: #1967D2;\n",
              "      height: 32px;\n",
              "      padding: 0 0 0 0;\n",
              "      width: 32px;\n",
              "    }\n",
              "\n",
              "    .colab-df-convert:hover {\n",
              "      background-color: #E2EBFA;\n",
              "      box-shadow: 0px 1px 2px rgba(60, 64, 67, 0.3), 0px 1px 3px 1px rgba(60, 64, 67, 0.15);\n",
              "      fill: #174EA6;\n",
              "    }\n",
              "\n",
              "    [theme=dark] .colab-df-convert {\n",
              "      background-color: #3B4455;\n",
              "      fill: #D2E3FC;\n",
              "    }\n",
              "\n",
              "    [theme=dark] .colab-df-convert:hover {\n",
              "      background-color: #434B5C;\n",
              "      box-shadow: 0px 1px 3px 1px rgba(0, 0, 0, 0.15);\n",
              "      filter: drop-shadow(0px 1px 2px rgba(0, 0, 0, 0.3));\n",
              "      fill: #FFFFFF;\n",
              "    }\n",
              "  </style>\n",
              "\n",
              "      <script>\n",
              "        const buttonEl =\n",
              "          document.querySelector('#df-c4cfa6a8-0450-444d-961b-541a314aae7f button.colab-df-convert');\n",
              "        buttonEl.style.display =\n",
              "          google.colab.kernel.accessAllowed ? 'block' : 'none';\n",
              "\n",
              "        async function convertToInteractive(key) {\n",
              "          const element = document.querySelector('#df-c4cfa6a8-0450-444d-961b-541a314aae7f');\n",
              "          const dataTable =\n",
              "            await google.colab.kernel.invokeFunction('convertToInteractive',\n",
              "                                                     [key], {});\n",
              "          if (!dataTable) return;\n",
              "\n",
              "          const docLinkHtml = 'Like what you see? Visit the ' +\n",
              "            '<a target=\"_blank\" href=https://colab.research.google.com/notebooks/data_table.ipynb>data table notebook</a>'\n",
              "            + ' to learn more about interactive tables.';\n",
              "          element.innerHTML = '';\n",
              "          dataTable['output_type'] = 'display_data';\n",
              "          await google.colab.output.renderOutput(dataTable, element);\n",
              "          const docLink = document.createElement('div');\n",
              "          docLink.innerHTML = docLinkHtml;\n",
              "          element.appendChild(docLink);\n",
              "        }\n",
              "      </script>\n",
              "    </div>\n",
              "  </div>\n",
              "  "
            ]
          },
          "metadata": {},
          "execution_count": 16
        }
      ]
    },
    {
      "cell_type": "markdown",
      "source": [
        "The result shows that better no VIF higher than 7 now, and since there is no variables with correlation higher than 0.8, we decide to not drop any variable"
      ],
      "metadata": {
        "id": "xO_62lhkDSht"
      }
    },
    {
      "cell_type": "markdown",
      "source": [
        "# Train Multiple Models\n",
        "with different lambdas = [0.01, 0.1, 1, 10]"
      ],
      "metadata": {
        "id": "fn19-6EksCTD"
      }
    },
    {
      "cell_type": "markdown",
      "source": [
        "## Ridge"
      ],
      "metadata": {
        "id": "jkbkYESHuVFu"
      }
    },
    {
      "cell_type": "code",
      "source": [
        "from sklearn.linear_model import Ridge\n",
        "\n",
        "# train the model\n",
        "X_medv_train = feature_df_train.to_numpy()\n",
        "y_medv_train = target_df_train.to_numpy()\n",
        "y_medv_train = y_medv_train.reshape(len(y_medv_train),)\n",
        "\n",
        "# define the model\n",
        "ridge_reg_001 = Ridge(alpha=0.01, random_state=42)\n",
        "ridge_reg_01 = Ridge(alpha=0.1, random_state=42)\n",
        "ridge_reg_1 = Ridge(alpha=1, random_state=42)\n",
        "ridge_reg_10 = Ridge(alpha=10, random_state=42)\n",
        "\n",
        "# fit the model (training)\n",
        "ridge_reg_001.fit(X_medv_train, y_medv_train)\n",
        "ridge_reg_01.fit(X_medv_train, y_medv_train)\n",
        "ridge_reg_1.fit(X_medv_train, y_medv_train)\n",
        "ridge_reg_10.fit(X_medv_train, y_medv_train)\n",
        "\n"
      ],
      "metadata": {
        "colab": {
          "base_uri": "https://localhost:8080/"
        },
        "id": "HA1W2BP9sLSb",
        "outputId": "94ad0053-cdf7-45e8-cd38-95cedac1ff40"
      },
      "execution_count": 17,
      "outputs": [
        {
          "output_type": "execute_result",
          "data": {
            "text/plain": [
              "Ridge(alpha=10, random_state=42)"
            ]
          },
          "metadata": {},
          "execution_count": 17
        }
      ]
    },
    {
      "cell_type": "markdown",
      "source": [
        "### Choose Best Model using RMSE"
      ],
      "metadata": {
        "id": "GoypCy9Ls3a8"
      }
    },
    {
      "cell_type": "code",
      "source": [
        "from sklearn.metrics import mean_squared_error\n",
        "\n",
        "X_medv_validation = feature_df_validation.to_numpy()\n",
        "y_medv_validation = target_df_validation.to_numpy()\n",
        "y_medv_validation = y_medv_validation.reshape(len(y_medv_validation),)\n",
        "\n",
        "alphas = [0.01, 0.1, 1., 10]\n",
        "models = [ridge_reg_001,\n",
        "          ridge_reg_01,\n",
        "          ridge_reg_1,\n",
        "          ridge_reg_10]\n",
        "\n",
        "for model, alpha in zip(models, alphas):\n",
        "    y_predict_validation = model.predict(X_medv_validation)\n",
        "    rmse = np.sqrt(mean_squared_error(y_medv_validation,y_predict_validation))\n",
        "    print(f'RMSE of Ridge regression model with alpha = {alpha} is {rmse}') #dipilih rmse yang paling kecil"
      ],
      "metadata": {
        "colab": {
          "base_uri": "https://localhost:8080/"
        },
        "id": "vxjSY0dTs1sn",
        "outputId": "fa15d538-764e-424c-f78b-b87f1ccfaa49"
      },
      "execution_count": 18,
      "outputs": [
        {
          "output_type": "stream",
          "name": "stdout",
          "text": [
            "RMSE of Ridge regression model with alpha = 0.01 is 4.960676932957843\n",
            "RMSE of Ridge regression model with alpha = 0.1 is 4.949412535122791\n",
            "RMSE of Ridge regression model with alpha = 1.0 is 4.912351371579991\n",
            "RMSE of Ridge regression model with alpha = 10 is 4.871717983886228\n"
          ]
        }
      ]
    },
    {
      "cell_type": "markdown",
      "source": [
        "The smallest value of RMSE is RMSE of Ridge regression model with alpha = 10"
      ],
      "metadata": {
        "id": "UNwo2yd6t1kp"
      }
    },
    {
      "cell_type": "markdown",
      "source": [
        "### Coefficient Tour - Ridge"
      ],
      "metadata": {
        "id": "SqVaxCUjuj5m"
      }
    },
    {
      "cell_type": "code",
      "source": [
        "model = ridge_reg_10 #lambda=10.0\n",
        "\n",
        "coef_df = pd.DataFrame({\n",
        "    'feature':['intercept'] + feature_df_train.columns.tolist(),\n",
        "    'coefficient':[model.intercept_] + list(model.coef_)\n",
        "})\n",
        "\n",
        "coef_df\n",
        "\n",
        "# We now look at the coefficient of the model with best lambda"
      ],
      "metadata": {
        "colab": {
          "base_uri": "https://localhost:8080/",
          "height": 457
        },
        "id": "k63V4CPSujYC",
        "outputId": "c272effc-72bd-43f6-d024-f47754718182"
      },
      "execution_count": 19,
      "outputs": [
        {
          "output_type": "execute_result",
          "data": {
            "text/plain": [
              "      feature  coefficient\n",
              "0   intercept    15.064666\n",
              "1        crim    -0.071408\n",
              "2          zn     0.033030\n",
              "3       indus    -0.067858\n",
              "4        chas     1.955801\n",
              "5         nox    -1.568248\n",
              "6          rm     4.783168\n",
              "7         age    -0.011523\n",
              "8         dis    -1.260056\n",
              "9         tax    -0.001976\n",
              "10    ptratio    -0.697550\n",
              "11      black     0.012729\n",
              "12      lstat    -0.523827"
            ],
            "text/html": [
              "\n",
              "  <div id=\"df-f9ef8174-51cb-44d8-9a58-d64bb4f27dbc\">\n",
              "    <div class=\"colab-df-container\">\n",
              "      <div>\n",
              "<style scoped>\n",
              "    .dataframe tbody tr th:only-of-type {\n",
              "        vertical-align: middle;\n",
              "    }\n",
              "\n",
              "    .dataframe tbody tr th {\n",
              "        vertical-align: top;\n",
              "    }\n",
              "\n",
              "    .dataframe thead th {\n",
              "        text-align: right;\n",
              "    }\n",
              "</style>\n",
              "<table border=\"1\" class=\"dataframe\">\n",
              "  <thead>\n",
              "    <tr style=\"text-align: right;\">\n",
              "      <th></th>\n",
              "      <th>feature</th>\n",
              "      <th>coefficient</th>\n",
              "    </tr>\n",
              "  </thead>\n",
              "  <tbody>\n",
              "    <tr>\n",
              "      <th>0</th>\n",
              "      <td>intercept</td>\n",
              "      <td>15.064666</td>\n",
              "    </tr>\n",
              "    <tr>\n",
              "      <th>1</th>\n",
              "      <td>crim</td>\n",
              "      <td>-0.071408</td>\n",
              "    </tr>\n",
              "    <tr>\n",
              "      <th>2</th>\n",
              "      <td>zn</td>\n",
              "      <td>0.033030</td>\n",
              "    </tr>\n",
              "    <tr>\n",
              "      <th>3</th>\n",
              "      <td>indus</td>\n",
              "      <td>-0.067858</td>\n",
              "    </tr>\n",
              "    <tr>\n",
              "      <th>4</th>\n",
              "      <td>chas</td>\n",
              "      <td>1.955801</td>\n",
              "    </tr>\n",
              "    <tr>\n",
              "      <th>5</th>\n",
              "      <td>nox</td>\n",
              "      <td>-1.568248</td>\n",
              "    </tr>\n",
              "    <tr>\n",
              "      <th>6</th>\n",
              "      <td>rm</td>\n",
              "      <td>4.783168</td>\n",
              "    </tr>\n",
              "    <tr>\n",
              "      <th>7</th>\n",
              "      <td>age</td>\n",
              "      <td>-0.011523</td>\n",
              "    </tr>\n",
              "    <tr>\n",
              "      <th>8</th>\n",
              "      <td>dis</td>\n",
              "      <td>-1.260056</td>\n",
              "    </tr>\n",
              "    <tr>\n",
              "      <th>9</th>\n",
              "      <td>tax</td>\n",
              "      <td>-0.001976</td>\n",
              "    </tr>\n",
              "    <tr>\n",
              "      <th>10</th>\n",
              "      <td>ptratio</td>\n",
              "      <td>-0.697550</td>\n",
              "    </tr>\n",
              "    <tr>\n",
              "      <th>11</th>\n",
              "      <td>black</td>\n",
              "      <td>0.012729</td>\n",
              "    </tr>\n",
              "    <tr>\n",
              "      <th>12</th>\n",
              "      <td>lstat</td>\n",
              "      <td>-0.523827</td>\n",
              "    </tr>\n",
              "  </tbody>\n",
              "</table>\n",
              "</div>\n",
              "      <button class=\"colab-df-convert\" onclick=\"convertToInteractive('df-f9ef8174-51cb-44d8-9a58-d64bb4f27dbc')\"\n",
              "              title=\"Convert this dataframe to an interactive table.\"\n",
              "              style=\"display:none;\">\n",
              "        \n",
              "  <svg xmlns=\"http://www.w3.org/2000/svg\" height=\"24px\"viewBox=\"0 0 24 24\"\n",
              "       width=\"24px\">\n",
              "    <path d=\"M0 0h24v24H0V0z\" fill=\"none\"/>\n",
              "    <path d=\"M18.56 5.44l.94 2.06.94-2.06 2.06-.94-2.06-.94-.94-2.06-.94 2.06-2.06.94zm-11 1L8.5 8.5l.94-2.06 2.06-.94-2.06-.94L8.5 2.5l-.94 2.06-2.06.94zm10 10l.94 2.06.94-2.06 2.06-.94-2.06-.94-.94-2.06-.94 2.06-2.06.94z\"/><path d=\"M17.41 7.96l-1.37-1.37c-.4-.4-.92-.59-1.43-.59-.52 0-1.04.2-1.43.59L10.3 9.45l-7.72 7.72c-.78.78-.78 2.05 0 2.83L4 21.41c.39.39.9.59 1.41.59.51 0 1.02-.2 1.41-.59l7.78-7.78 2.81-2.81c.8-.78.8-2.07 0-2.86zM5.41 20L4 18.59l7.72-7.72 1.47 1.35L5.41 20z\"/>\n",
              "  </svg>\n",
              "      </button>\n",
              "      \n",
              "  <style>\n",
              "    .colab-df-container {\n",
              "      display:flex;\n",
              "      flex-wrap:wrap;\n",
              "      gap: 12px;\n",
              "    }\n",
              "\n",
              "    .colab-df-convert {\n",
              "      background-color: #E8F0FE;\n",
              "      border: none;\n",
              "      border-radius: 50%;\n",
              "      cursor: pointer;\n",
              "      display: none;\n",
              "      fill: #1967D2;\n",
              "      height: 32px;\n",
              "      padding: 0 0 0 0;\n",
              "      width: 32px;\n",
              "    }\n",
              "\n",
              "    .colab-df-convert:hover {\n",
              "      background-color: #E2EBFA;\n",
              "      box-shadow: 0px 1px 2px rgba(60, 64, 67, 0.3), 0px 1px 3px 1px rgba(60, 64, 67, 0.15);\n",
              "      fill: #174EA6;\n",
              "    }\n",
              "\n",
              "    [theme=dark] .colab-df-convert {\n",
              "      background-color: #3B4455;\n",
              "      fill: #D2E3FC;\n",
              "    }\n",
              "\n",
              "    [theme=dark] .colab-df-convert:hover {\n",
              "      background-color: #434B5C;\n",
              "      box-shadow: 0px 1px 3px 1px rgba(0, 0, 0, 0.15);\n",
              "      filter: drop-shadow(0px 1px 2px rgba(0, 0, 0, 0.3));\n",
              "      fill: #FFFFFF;\n",
              "    }\n",
              "  </style>\n",
              "\n",
              "      <script>\n",
              "        const buttonEl =\n",
              "          document.querySelector('#df-f9ef8174-51cb-44d8-9a58-d64bb4f27dbc button.colab-df-convert');\n",
              "        buttonEl.style.display =\n",
              "          google.colab.kernel.accessAllowed ? 'block' : 'none';\n",
              "\n",
              "        async function convertToInteractive(key) {\n",
              "          const element = document.querySelector('#df-f9ef8174-51cb-44d8-9a58-d64bb4f27dbc');\n",
              "          const dataTable =\n",
              "            await google.colab.kernel.invokeFunction('convertToInteractive',\n",
              "                                                     [key], {});\n",
              "          if (!dataTable) return;\n",
              "\n",
              "          const docLinkHtml = 'Like what you see? Visit the ' +\n",
              "            '<a target=\"_blank\" href=https://colab.research.google.com/notebooks/data_table.ipynb>data table notebook</a>'\n",
              "            + ' to learn more about interactive tables.';\n",
              "          element.innerHTML = '';\n",
              "          dataTable['output_type'] = 'display_data';\n",
              "          await google.colab.output.renderOutput(dataTable, element);\n",
              "          const docLink = document.createElement('div');\n",
              "          docLink.innerHTML = docLinkHtml;\n",
              "          element.appendChild(docLink);\n",
              "        }\n",
              "      </script>\n",
              "    </div>\n",
              "  </div>\n",
              "  "
            ]
          },
          "metadata": {},
          "execution_count": 19
        }
      ]
    },
    {
      "cell_type": "markdown",
      "source": [
        "### Interpretation for Best Model"
      ],
      "metadata": {
        "id": "hnZBeEfnF2tz"
      }
    },
    {
      "cell_type": "markdown",
      "source": [
        "medv = 15.064666 - 0.071408 * crim + 0.033030 * zn -0.067858 * indus + 1.955801 * chas - 1.568248 * nox + 4.783168 * rm - 0.011523 * age - 1.260056 * dis - 0.001976 * tax - 0.697550 *pratio + 0.012729 * black - 0.523827 * lstat\n",
        "\n",
        "\n",
        "\n",
        "*   For every 1 point increase in variable rm - average number of room per dwelling, (assuming other variables do not change), it has an association with an increase of 4.783168 point in median value medv (in USD 1000's).\n",
        "\n",
        "*   For every 1 point increase in variable pratio - pupil teacher ratio in the neighborhood, assuming other variables do not change, it has an association with a decrease of 0.697550 point in median value medv (in USD 1000's)\n",
        "\n"
      ],
      "metadata": {
        "id": "YcU5K8MnGGnr"
      }
    },
    {
      "cell_type": "markdown",
      "source": [
        "## Lasso"
      ],
      "metadata": {
        "id": "m99FYCPHwbuO"
      }
    },
    {
      "cell_type": "code",
      "source": [
        "from sklearn.linear_model import Lasso\n",
        "\n",
        "# train the model\n",
        "X_medv_train = feature_df_train.to_numpy()\n",
        "y_medv_train = target_df_train.to_numpy()\n",
        "y_medv_train = y_medv_train.reshape(len(y_medv_train),)\n",
        "\n",
        "# define the model\n",
        "lasso_reg_001 = Lasso(alpha=0.01, random_state=42)\n",
        "lasso_reg_01 = Lasso(alpha=0.1, random_state=42)\n",
        "lasso_reg_1 = Lasso(alpha=1, random_state=42)\n",
        "lasso_reg_10 = Lasso(alpha=10, random_state=42)\n",
        "\n",
        "# fit the model (training)\n",
        "lasso_reg_001.fit(X_medv_train, y_medv_train)\n",
        "lasso_reg_01.fit(X_medv_train, y_medv_train)\n",
        "lasso_reg_1.fit(X_medv_train, y_medv_train)\n",
        "lasso_reg_10.fit(X_medv_train, y_medv_train)\n",
        "\n"
      ],
      "metadata": {
        "colab": {
          "base_uri": "https://localhost:8080/"
        },
        "id": "KYC5t6Vswh9F",
        "outputId": "7c6536ec-a87e-4db5-c32f-ebfe70f90bc1"
      },
      "execution_count": 26,
      "outputs": [
        {
          "output_type": "execute_result",
          "data": {
            "text/plain": [
              "Lasso(alpha=10, random_state=42)"
            ]
          },
          "metadata": {},
          "execution_count": 26
        }
      ]
    },
    {
      "cell_type": "markdown",
      "source": [
        "### Choose Best Model using RMSE"
      ],
      "metadata": {
        "id": "xj0BOqnvxMtD"
      }
    },
    {
      "cell_type": "code",
      "source": [
        "from sklearn.metrics import mean_squared_error\n",
        "\n",
        "X_medv_validation = feature_df_validation.to_numpy()\n",
        "y_medv_validation = target_df_validation.to_numpy()\n",
        "y_medv_validation = y_medv_validation.reshape(len(y_medv_validation),)\n",
        "\n",
        "alphas = [0.01, 0.1, 1., 10]\n",
        "models = [lasso_reg_001,\n",
        "          lasso_reg_01,\n",
        "          lasso_reg_1,\n",
        "          lasso_reg_10]\n",
        "\n",
        "for model, alpha in zip(models, alphas):\n",
        "    y_predict_validation = model.predict(X_medv_validation)\n",
        "    rmse = np.sqrt(mean_squared_error(y_medv_validation,y_predict_validation))\n",
        "    print(f'RMSE of Lasso regression model with alpha = {alpha} is {rmse}') #dipilih rmse yang paling kecil"
      ],
      "metadata": {
        "colab": {
          "base_uri": "https://localhost:8080/"
        },
        "id": "-LOc0ZL6xKT2",
        "outputId": "366efaf3-4a4a-48f1-92ef-14c25b96e2dd"
      },
      "execution_count": 24,
      "outputs": [
        {
          "output_type": "stream",
          "name": "stdout",
          "text": [
            "RMSE of Lasso regression model with alpha = 0.01 is 4.934105658639752\n",
            "RMSE of Lasso regression model with alpha = 0.1 is 4.907145314259478\n",
            "RMSE of Lasso regression model with alpha = 1.0 is 4.845855910636398\n",
            "RMSE of Lasso regression model with alpha = 10 is 5.426622694252769\n"
          ]
        }
      ]
    },
    {
      "cell_type": "markdown",
      "source": [
        "The smallest value of RMSE is RMSE of Lasso regression model with alpha = 1.0"
      ],
      "metadata": {
        "id": "GY4VRv8cx1I8"
      }
    },
    {
      "cell_type": "markdown",
      "source": [
        "### Coefficient Tour - Lasso"
      ],
      "metadata": {
        "id": "VWMzh0yiyWN6"
      }
    },
    {
      "cell_type": "code",
      "source": [
        "model = lasso_reg_1 #lambda=1\n",
        "\n",
        "coef_df = pd.DataFrame({\n",
        "    'feature':['intercept'] + feature_df_train.columns.tolist(),\n",
        "    'coefficient':[model.intercept_] + list(model.coef_)\n",
        "})\n",
        "\n",
        "coef_df"
      ],
      "metadata": {
        "colab": {
          "base_uri": "https://localhost:8080/",
          "height": 457
        },
        "id": "OYfDocmmyaRW",
        "outputId": "e964b488-2ebf-42f4-c231-732da027e778"
      },
      "execution_count": 25,
      "outputs": [
        {
          "output_type": "execute_result",
          "data": {
            "text/plain": [
              "      feature  coefficient\n",
              "0   intercept    25.823435\n",
              "1        crim    -0.041076\n",
              "2          zn     0.025273\n",
              "3       indus    -0.000000\n",
              "4        chas     0.000000\n",
              "5         nox    -0.000000\n",
              "6          rm     2.504122\n",
              "7         age     0.022055\n",
              "8         dis    -0.599362\n",
              "9         tax    -0.002994\n",
              "10    ptratio    -0.666222\n",
              "11      black     0.011400\n",
              "12      lstat    -0.712433"
            ],
            "text/html": [
              "\n",
              "  <div id=\"df-b002418f-7580-460f-ac35-1435ce1b9add\">\n",
              "    <div class=\"colab-df-container\">\n",
              "      <div>\n",
              "<style scoped>\n",
              "    .dataframe tbody tr th:only-of-type {\n",
              "        vertical-align: middle;\n",
              "    }\n",
              "\n",
              "    .dataframe tbody tr th {\n",
              "        vertical-align: top;\n",
              "    }\n",
              "\n",
              "    .dataframe thead th {\n",
              "        text-align: right;\n",
              "    }\n",
              "</style>\n",
              "<table border=\"1\" class=\"dataframe\">\n",
              "  <thead>\n",
              "    <tr style=\"text-align: right;\">\n",
              "      <th></th>\n",
              "      <th>feature</th>\n",
              "      <th>coefficient</th>\n",
              "    </tr>\n",
              "  </thead>\n",
              "  <tbody>\n",
              "    <tr>\n",
              "      <th>0</th>\n",
              "      <td>intercept</td>\n",
              "      <td>25.823435</td>\n",
              "    </tr>\n",
              "    <tr>\n",
              "      <th>1</th>\n",
              "      <td>crim</td>\n",
              "      <td>-0.041076</td>\n",
              "    </tr>\n",
              "    <tr>\n",
              "      <th>2</th>\n",
              "      <td>zn</td>\n",
              "      <td>0.025273</td>\n",
              "    </tr>\n",
              "    <tr>\n",
              "      <th>3</th>\n",
              "      <td>indus</td>\n",
              "      <td>-0.000000</td>\n",
              "    </tr>\n",
              "    <tr>\n",
              "      <th>4</th>\n",
              "      <td>chas</td>\n",
              "      <td>0.000000</td>\n",
              "    </tr>\n",
              "    <tr>\n",
              "      <th>5</th>\n",
              "      <td>nox</td>\n",
              "      <td>-0.000000</td>\n",
              "    </tr>\n",
              "    <tr>\n",
              "      <th>6</th>\n",
              "      <td>rm</td>\n",
              "      <td>2.504122</td>\n",
              "    </tr>\n",
              "    <tr>\n",
              "      <th>7</th>\n",
              "      <td>age</td>\n",
              "      <td>0.022055</td>\n",
              "    </tr>\n",
              "    <tr>\n",
              "      <th>8</th>\n",
              "      <td>dis</td>\n",
              "      <td>-0.599362</td>\n",
              "    </tr>\n",
              "    <tr>\n",
              "      <th>9</th>\n",
              "      <td>tax</td>\n",
              "      <td>-0.002994</td>\n",
              "    </tr>\n",
              "    <tr>\n",
              "      <th>10</th>\n",
              "      <td>ptratio</td>\n",
              "      <td>-0.666222</td>\n",
              "    </tr>\n",
              "    <tr>\n",
              "      <th>11</th>\n",
              "      <td>black</td>\n",
              "      <td>0.011400</td>\n",
              "    </tr>\n",
              "    <tr>\n",
              "      <th>12</th>\n",
              "      <td>lstat</td>\n",
              "      <td>-0.712433</td>\n",
              "    </tr>\n",
              "  </tbody>\n",
              "</table>\n",
              "</div>\n",
              "      <button class=\"colab-df-convert\" onclick=\"convertToInteractive('df-b002418f-7580-460f-ac35-1435ce1b9add')\"\n",
              "              title=\"Convert this dataframe to an interactive table.\"\n",
              "              style=\"display:none;\">\n",
              "        \n",
              "  <svg xmlns=\"http://www.w3.org/2000/svg\" height=\"24px\"viewBox=\"0 0 24 24\"\n",
              "       width=\"24px\">\n",
              "    <path d=\"M0 0h24v24H0V0z\" fill=\"none\"/>\n",
              "    <path d=\"M18.56 5.44l.94 2.06.94-2.06 2.06-.94-2.06-.94-.94-2.06-.94 2.06-2.06.94zm-11 1L8.5 8.5l.94-2.06 2.06-.94-2.06-.94L8.5 2.5l-.94 2.06-2.06.94zm10 10l.94 2.06.94-2.06 2.06-.94-2.06-.94-.94-2.06-.94 2.06-2.06.94z\"/><path d=\"M17.41 7.96l-1.37-1.37c-.4-.4-.92-.59-1.43-.59-.52 0-1.04.2-1.43.59L10.3 9.45l-7.72 7.72c-.78.78-.78 2.05 0 2.83L4 21.41c.39.39.9.59 1.41.59.51 0 1.02-.2 1.41-.59l7.78-7.78 2.81-2.81c.8-.78.8-2.07 0-2.86zM5.41 20L4 18.59l7.72-7.72 1.47 1.35L5.41 20z\"/>\n",
              "  </svg>\n",
              "      </button>\n",
              "      \n",
              "  <style>\n",
              "    .colab-df-container {\n",
              "      display:flex;\n",
              "      flex-wrap:wrap;\n",
              "      gap: 12px;\n",
              "    }\n",
              "\n",
              "    .colab-df-convert {\n",
              "      background-color: #E8F0FE;\n",
              "      border: none;\n",
              "      border-radius: 50%;\n",
              "      cursor: pointer;\n",
              "      display: none;\n",
              "      fill: #1967D2;\n",
              "      height: 32px;\n",
              "      padding: 0 0 0 0;\n",
              "      width: 32px;\n",
              "    }\n",
              "\n",
              "    .colab-df-convert:hover {\n",
              "      background-color: #E2EBFA;\n",
              "      box-shadow: 0px 1px 2px rgba(60, 64, 67, 0.3), 0px 1px 3px 1px rgba(60, 64, 67, 0.15);\n",
              "      fill: #174EA6;\n",
              "    }\n",
              "\n",
              "    [theme=dark] .colab-df-convert {\n",
              "      background-color: #3B4455;\n",
              "      fill: #D2E3FC;\n",
              "    }\n",
              "\n",
              "    [theme=dark] .colab-df-convert:hover {\n",
              "      background-color: #434B5C;\n",
              "      box-shadow: 0px 1px 3px 1px rgba(0, 0, 0, 0.15);\n",
              "      filter: drop-shadow(0px 1px 2px rgba(0, 0, 0, 0.3));\n",
              "      fill: #FFFFFF;\n",
              "    }\n",
              "  </style>\n",
              "\n",
              "      <script>\n",
              "        const buttonEl =\n",
              "          document.querySelector('#df-b002418f-7580-460f-ac35-1435ce1b9add button.colab-df-convert');\n",
              "        buttonEl.style.display =\n",
              "          google.colab.kernel.accessAllowed ? 'block' : 'none';\n",
              "\n",
              "        async function convertToInteractive(key) {\n",
              "          const element = document.querySelector('#df-b002418f-7580-460f-ac35-1435ce1b9add');\n",
              "          const dataTable =\n",
              "            await google.colab.kernel.invokeFunction('convertToInteractive',\n",
              "                                                     [key], {});\n",
              "          if (!dataTable) return;\n",
              "\n",
              "          const docLinkHtml = 'Like what you see? Visit the ' +\n",
              "            '<a target=\"_blank\" href=https://colab.research.google.com/notebooks/data_table.ipynb>data table notebook</a>'\n",
              "            + ' to learn more about interactive tables.';\n",
              "          element.innerHTML = '';\n",
              "          dataTable['output_type'] = 'display_data';\n",
              "          await google.colab.output.renderOutput(dataTable, element);\n",
              "          const docLink = document.createElement('div');\n",
              "          docLink.innerHTML = docLinkHtml;\n",
              "          element.appendChild(docLink);\n",
              "        }\n",
              "      </script>\n",
              "    </div>\n",
              "  </div>\n",
              "  "
            ]
          },
          "metadata": {},
          "execution_count": 25
        }
      ]
    },
    {
      "cell_type": "markdown",
      "source": [
        "# Model Evaluation"
      ],
      "metadata": {
        "id": "yjBfxeIiK4NW"
      }
    },
    {
      "cell_type": "markdown",
      "source": [
        "## Ridge"
      ],
      "metadata": {
        "id": "Q6wkzj2uLemn"
      }
    },
    {
      "cell_type": "markdown",
      "source": [
        "### Diagnostic Study"
      ],
      "metadata": {
        "id": "yTbfPQ2F0R-x"
      }
    },
    {
      "cell_type": "code",
      "source": [
        "from sklearn.metrics import r2_score\n",
        "ridge_best = ridge_reg_10\n",
        "\n",
        "y_predict_train = ridge_best.predict(X_medv_train)\n",
        "\n",
        "print('R-squared for training data is {}'.format(r2_score(y_predict_train, y_medv_train)))"
      ],
      "metadata": {
        "colab": {
          "base_uri": "https://localhost:8080/"
        },
        "id": "PAW3N0Gw0Uvj",
        "outputId": "bd10d7ad-c8e2-4df4-dae2-255ae4ff2d71"
      },
      "execution_count": 27,
      "outputs": [
        {
          "output_type": "stream",
          "name": "stdout",
          "text": [
            "R-squared for training data is 0.6542246087727177\n"
          ]
        }
      ]
    },
    {
      "cell_type": "markdown",
      "source": [
        "### Training Error"
      ],
      "metadata": {
        "id": "JetimgphLXVi"
      }
    },
    {
      "cell_type": "code",
      "source": [
        "# calculate residuals\n",
        "residual = y_medv_train - y_predict_train\n",
        "\n",
        "# prepare dataframe\n",
        "# 1 predictor --> predictor VS residual\n",
        "df_resid = pd.DataFrame({\n",
        "    'predicted_value': y_predict_train,\n",
        "    'residual': residual\n",
        "})\n",
        "\n",
        "# residual plot\n",
        "sns.scatterplot(data=df_resid, x=\"predicted_value\", y=\"residual\")\n",
        "plt.axhline(0)\n",
        "plt.show()"
      ],
      "metadata": {
        "colab": {
          "base_uri": "https://localhost:8080/",
          "height": 280
        },
        "id": "tTkY1zZdLBAw",
        "outputId": "e5e52f48-809b-47d8-894b-63350321c6bf"
      },
      "execution_count": 28,
      "outputs": [
        {
          "output_type": "display_data",
          "data": {
            "text/plain": [
              "<Figure size 432x288 with 1 Axes>"
            ],
            "image/png": "[encoded data removed]"
          },
          "metadata": {
            "needs_background": "light"
          }
        }
      ]
    },
    {
      "cell_type": "markdown",
      "source": [
        "variance of residuals seems random -> no bias in residuals"
      ],
      "metadata": {
        "id": "vGiUaFPhx_SD"
      }
    },
    {
      "cell_type": "code",
      "source": [
        "# prepare prediction result on training data\n",
        "y_predict_train = ridge_best.predict(X_medv_train)\n",
        "\n",
        "from sklearn.metrics import mean_squared_error\n",
        "from sklearn.metrics import mean_absolute_error\n",
        "from sklearn.metrics import mean_absolute_percentage_error\n",
        "\n",
        "print('RMSE for training data is {}'.format(np.sqrt(mean_squared_error(y_predict_train, y_medv_train))))\n",
        "print('MAE for training data is {}'.format(mean_absolute_error(y_predict_train, y_medv_train)))\n",
        "print('MAPE for training data is {}'.format(mean_absolute_percentage_error(y_predict_train, y_medv_train)))"
      ],
      "metadata": {
        "colab": {
          "base_uri": "https://localhost:8080/"
        },
        "id": "ZQf9sXynLo4c",
        "outputId": "a605d13d-052b-4df4-f3d1-9fb4b8f0542c"
      },
      "execution_count": 30,
      "outputs": [
        {
          "output_type": "stream",
          "name": "stdout",
          "text": [
            "RMSE for training data is 4.778640361040111\n",
            "MAE for training data is 3.3776762058865626\n",
            "MAPE for training data is 0.20627342943666688\n"
          ]
        }
      ]
    },
    {
      "cell_type": "markdown",
      "source": [
        "Standard deviation of the residuals in the training data, is +/- 4.778640361040111 (from RSME)"
      ],
      "metadata": {
        "id": "UEInX9CLL3nP"
      }
    },
    {
      "cell_type": "markdown",
      "source": [
        "### Testing Error"
      ],
      "metadata": {
        "id": "ZfUq0BAyMAEX"
      }
    },
    {
      "cell_type": "code",
      "source": [
        "# prepare prediction result on test data\n",
        "X_df_test = feature_df_test.to_numpy()\n",
        "y_predict_test = ridge_best.predict(X_df_test)\n",
        "\n",
        "# ground truth target\n",
        "y_df_test = target_df_test.to_numpy()\n",
        "y_df_test = y_df_test.reshape(len(y_df_test),)"
      ],
      "metadata": {
        "id": "uETHpSxNLtx-"
      },
      "execution_count": 31,
      "outputs": []
    },
    {
      "cell_type": "code",
      "source": [
        "from sklearn.metrics import r2_score\n",
        "from sklearn.metrics import mean_absolute_error\n",
        "from sklearn.metrics import mean_absolute_percentage_error\n",
        "\n",
        "print('RMSE for testing data is {}'.format(np.sqrt(mean_squared_error(y_predict_test, y_df_test))))\n",
        "print('MAE for testing data is {}'.format(mean_absolute_error(y_predict_test, y_df_test)))\n",
        "print('MAPE for testing data is {}'.format(mean_absolute_percentage_error(y_predict_test, y_df_test)))"
      ],
      "metadata": {
        "colab": {
          "base_uri": "https://localhost:8080/"
        },
        "id": "OhUlwQr5MH_n",
        "outputId": "98fb4cbf-4955-4a0e-d729-074b2efc0a8a"
      },
      "execution_count": 32,
      "outputs": [
        {
          "output_type": "stream",
          "name": "stdout",
          "text": [
            "RMSE for testing data is 5.158908333657057\n",
            "MAE for testing data is 3.2444816457044965\n",
            "MAPE for testing data is 0.2622349874986081\n"
          ]
        }
      ]
    },
    {
      "cell_type": "markdown",
      "source": [
        "Standard deviation of the residuals in the testing data, is +/- 5.158908333657057 (from RSME)"
      ],
      "metadata": {
        "id": "C4c5NAMRMKtW"
      }
    },
    {
      "cell_type": "markdown",
      "source": [
        "- Based on MAE, on average our prediction deviates the true medv value by 3.244 points (in USD 1000's) - so it is quite significant because the predication can be different in thousands of dollars\n",
        "- Based on MAPE, this 3.244 points deviation is equivalent to 26% of deviation relative to true medv value. So, the model still have relatively large deviation but we will use standard of 30% to decide the model as not acceptable, so we conclude that the model still acceptable to predict medv value."
      ],
      "metadata": {
        "id": "uK8WLK1-MOn2"
      }
    },
    {
      "cell_type": "markdown",
      "source": [
        "## Lasso"
      ],
      "metadata": {
        "id": "gx6mKyLpMVoX"
      }
    },
    {
      "cell_type": "markdown",
      "source": [
        "## Diagnostic Study"
      ],
      "metadata": {
        "id": "ydGTUtHyMZVF"
      }
    },
    {
      "cell_type": "code",
      "source": [
        "from sklearn.metrics import r2_score\n",
        "\n",
        "lasso_best = lasso_reg_1\n",
        "\n",
        "y_predict_train = lasso_best.predict(X_medv_train)\n",
        "\n",
        "print('R-squared for training data is {}'.format(r2_score(y_predict_train, y_medv_train)))"
      ],
      "metadata": {
        "colab": {
          "base_uri": "https://localhost:8080/"
        },
        "id": "tBeomfGk0by2",
        "outputId": "93fd1602-098b-49e9-ed20-0d3205556b14"
      },
      "execution_count": 33,
      "outputs": [
        {
          "output_type": "stream",
          "name": "stdout",
          "text": [
            "R-squared for training data is 0.5133022055846548\n"
          ]
        }
      ]
    },
    {
      "cell_type": "markdown",
      "source": [
        "51% of variance in the target medv is explained by all the feature in the model"
      ],
      "metadata": {
        "id": "WEjSHf0fySnJ"
      }
    },
    {
      "cell_type": "markdown",
      "source": [
        "### Training Error"
      ],
      "metadata": {
        "id": "O63_36kSMs-P"
      }
    },
    {
      "cell_type": "code",
      "source": [
        "# calculate residuals\n",
        "residual = y_medv_train - y_predict_train\n",
        "\n",
        "# prepare dataframe\n",
        "# 1 predictor --> predictor VS residual\n",
        "df_resid = pd.DataFrame({\n",
        "    'predicted_value': y_predict_train,\n",
        "    'residual': residual\n",
        "})\n",
        "\n",
        "# residual plot\n",
        "sns.scatterplot(data=df_resid, x=\"predicted_value\", y=\"residual\")\n",
        "plt.axhline(0)\n",
        "plt.show()\n"
      ],
      "metadata": {
        "colab": {
          "base_uri": "https://localhost:8080/",
          "height": 280
        },
        "id": "_ua6uByn1RUc",
        "outputId": "9785c651-1cd3-42c6-f50a-63efd4df7819"
      },
      "execution_count": 34,
      "outputs": [
        {
          "output_type": "display_data",
          "data": {
            "text/plain": [
              "<Figure size 432x288 with 1 Axes>"
            ],
            "image/png": "[encoded data removed]"
          },
          "metadata": {
            "needs_background": "light"
          }
        }
      ]
    },
    {
      "cell_type": "markdown",
      "source": [
        "variance of residuals seems random -> no bias in residuals"
      ],
      "metadata": {
        "id": "VWmJnPZ1M5f4"
      }
    },
    {
      "cell_type": "markdown",
      "source": [
        "### Testing Error"
      ],
      "metadata": {
        "id": "rrelo6M_M7g3"
      }
    },
    {
      "cell_type": "code",
      "source": [
        "# prepare prediction result on training data\n",
        "y_predict_train = lasso_best.predict(X_medv_train)\n",
        "\n",
        "from sklearn.metrics import mean_squared_error\n",
        "from sklearn.metrics import mean_absolute_error\n",
        "from sklearn.metrics import mean_absolute_percentage_error\n",
        "\n",
        "print('RMSE for training data is {}'.format(np.sqrt(mean_squared_error(y_predict_train, y_medv_train))))\n",
        "print('MAE for training data is {}'.format(mean_absolute_error(y_predict_train, y_medv_train)))\n",
        "print('MAPE for training data is {}'.format(mean_absolute_percentage_error(y_predict_train, y_medv_train)))"
      ],
      "metadata": {
        "colab": {
          "base_uri": "https://localhost:8080/"
        },
        "id": "KuspstHZM_ex",
        "outputId": "d75886fa-2fea-4521-cbfa-09a3e9ad9685"
      },
      "execution_count": 35,
      "outputs": [
        {
          "output_type": "stream",
          "name": "stdout",
          "text": [
            "RMSE for training data is 5.170346463296143\n",
            "MAE for training data is 3.6858416211465084\n",
            "MAPE for training data is 0.2295469115534592\n"
          ]
        }
      ]
    },
    {
      "cell_type": "markdown",
      "source": [
        "Standard deviation of the residuals in the training data, is +/- 5.170346463296143 (from RSME)"
      ],
      "metadata": {
        "id": "ZhFcWBo6NJH1"
      }
    },
    {
      "cell_type": "code",
      "source": [
        "# prepare prediction result on test data\n",
        "X_df_test = feature_df_test.to_numpy()\n",
        "y_predict_test = lasso_best.predict(X_df_test)\n",
        "\n",
        "# ground truth target\n",
        "y_df_test = target_df_test.to_numpy()\n",
        "y_df_test = y_df_test.reshape(len(y_df_test),)"
      ],
      "metadata": {
        "id": "TqOGuZb1NPtD"
      },
      "execution_count": 36,
      "outputs": []
    },
    {
      "cell_type": "code",
      "source": [
        "from sklearn.metrics import r2_score\n",
        "from sklearn.metrics import mean_absolute_error\n",
        "from sklearn.metrics import mean_absolute_percentage_error\n",
        "\n",
        "print('RMSE for testing data is {}'.format(np.sqrt(mean_squared_error(y_predict_test, y_df_test))))\n",
        "print('MAE for testing data is {}'.format(mean_absolute_error(y_predict_test, y_df_test)))\n",
        "print('MAPE for testing data is {}'.format(mean_absolute_percentage_error(y_predict_test, y_df_test)))"
      ],
      "metadata": {
        "colab": {
          "base_uri": "https://localhost:8080/"
        },
        "id": "ibjJEFzDNSpF",
        "outputId": "b5cfbdf0-61a5-49fc-e73f-2b9f2462b58e"
      },
      "execution_count": 37,
      "outputs": [
        {
          "output_type": "stream",
          "name": "stdout",
          "text": [
            "RMSE for testing data is 5.125494212319777\n",
            "MAE for testing data is 3.3980507105960682\n",
            "MAPE for testing data is 0.2950524268933147\n"
          ]
        }
      ]
    },
    {
      "cell_type": "markdown",
      "source": [
        "Standard deviation of the residuals in the testing data, is +/- 5.125494212319777 (from RSME)"
      ],
      "metadata": {
        "id": "AgyRqrhCNdFN"
      }
    },
    {
      "cell_type": "markdown",
      "source": [
        "- Based on MAE, on average our prediction deviates the true medv value by 3.398 points (in USD 1000's) - so it is quite significant because the prediction can be different in thousands of dollars\n",
        "- Based on MAPE, this 3.398 points deviation is equivalent to 29.505% of deviation relative to true medv value. So, the model still have relatively large deviation but we will use standard of 30% to decide the model as not acceptable, so we conclude that the model still acceptable to predict medv value.\n",
        "- Here, if we compare ridge and lasso model, lasso model performs technically speaking slightly better 29.505% vs 26% deviation compared to true medv value and we generally accept both model because MAPE is still below in 30%."
      ],
      "metadata": {
        "id": "4Ws1kNWjNist"
      }
    },
    {
      "cell_type": "markdown",
      "source": [
        "Asumsi yang dipenuhi oleh model :\n",
        "1. Hubungan Linear - Terpenuhi\n",
        "2. Variance Stabil - Tidak Terpenuhi (Variance tidak konstan)\n",
        "3. Observasi Independen - Terpenuhi (Residual Independen/Tidak ada pola tertentu)"
      ],
      "metadata": {
        "id": "lwPY5UWpyedE"
      }
    },
    {
      "cell_type": "markdown",
      "source": [
        "The conclusion is that both models are acceptable. Ridge and Lasso models have almost the same training and testing values. But from the analysis above, I prefer to use Ridge model. because the difference in the value of RMSE training and testing is not too far away. MAPE values of the two models also almost the same."
      ],
      "metadata": {
        "id": "22f1oN5wOSrG"
      }
    }
  ]
}